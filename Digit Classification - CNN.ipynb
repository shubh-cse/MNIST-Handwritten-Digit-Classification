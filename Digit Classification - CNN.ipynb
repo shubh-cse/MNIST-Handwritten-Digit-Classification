{
 "cells": [
  {
   "cell_type": "markdown",
   "metadata": {
    "colab_type": "text",
    "id": "qWeoyi6LYTz9"
   },
   "source": [
    "<h1 style=\"text-align:center;\">MNIST Handwritten Digit Classification</h1>"
   ]
  },
  {
   "cell_type": "markdown",
   "metadata": {
    "colab_type": "text",
    "id": "kZ0uSOomdJUp"
   },
   "source": [
    "<h2>MODEL 1</h2>"
   ]
  },
  {
   "cell_type": "code",
   "execution_count": 10,
   "metadata": {
    "colab": {
     "base_uri": "https://localhost:8080/",
     "height": 521
    },
    "colab_type": "code",
    "id": "nAp5brGmYepT",
    "outputId": "6474ecfe-a7a5-4b14-c264-3441c804ae73"
   },
   "outputs": [
    {
     "name": "stdout",
     "output_type": "stream",
     "text": [
      "x_train shape: (60000, 28, 28, 1)\n",
      "60000 train samples\n",
      "10000 test samples\n",
      "Train on 60000 samples, validate on 10000 samples\n",
      "Epoch 1/12\n",
      "60000/60000 [==============================] - 166s 3ms/step - loss: 0.2206 - acc: 0.9320 - val_loss: 0.0558 - val_acc: 0.9817\n",
      "Epoch 2/12\n",
      "60000/60000 [==============================] - 165s 3ms/step - loss: 0.0627 - acc: 0.9810 - val_loss: 0.0394 - val_acc: 0.9873\n",
      "Epoch 3/12\n",
      "60000/60000 [==============================] - 165s 3ms/step - loss: 0.0455 - acc: 0.9862 - val_loss: 0.0328 - val_acc: 0.9888\n",
      "Epoch 4/12\n",
      "60000/60000 [==============================] - 165s 3ms/step - loss: 0.0357 - acc: 0.9890 - val_loss: 0.0332 - val_acc: 0.9890\n",
      "Epoch 5/12\n",
      "60000/60000 [==============================] - 165s 3ms/step - loss: 0.0299 - acc: 0.9910 - val_loss: 0.0296 - val_acc: 0.9897\n",
      "Epoch 6/12\n",
      "60000/60000 [==============================] - 166s 3ms/step - loss: 0.0241 - acc: 0.9926 - val_loss: 0.0281 - val_acc: 0.9908\n",
      "Epoch 7/12\n",
      "60000/60000 [==============================] - 165s 3ms/step - loss: 0.0209 - acc: 0.9934 - val_loss: 0.0306 - val_acc: 0.9910\n",
      "Epoch 8/12\n",
      "60000/60000 [==============================] - 166s 3ms/step - loss: 0.0189 - acc: 0.9937 - val_loss: 0.0297 - val_acc: 0.9915\n",
      "Epoch 9/12\n",
      "60000/60000 [==============================] - 164s 3ms/step - loss: 0.0156 - acc: 0.9951 - val_loss: 0.0349 - val_acc: 0.9900\n",
      "Epoch 10/12\n",
      "60000/60000 [==============================] - 165s 3ms/step - loss: 0.0137 - acc: 0.9957 - val_loss: 0.0264 - val_acc: 0.9921\n",
      "Epoch 11/12\n",
      "60000/60000 [==============================] - 164s 3ms/step - loss: 0.0125 - acc: 0.9959 - val_loss: 0.0295 - val_acc: 0.9921\n",
      "Epoch 12/12\n",
      "60000/60000 [==============================] - 164s 3ms/step - loss: 0.0115 - acc: 0.9962 - val_loss: 0.0290 - val_acc: 0.9920\n",
      "Test loss: 0.028964232980650966\n",
      "Test accuracy: 0.992\n"
     ]
    }
   ],
   "source": [
    "# preparing first cnn model\n",
    "from __future__ import print_function\n",
    "import keras\n",
    "from keras.datasets import mnist\n",
    "from keras.models import Sequential\n",
    "from keras.layers import Dense, Dropout, Flatten\n",
    "from keras.layers import Conv2D, MaxPooling2D\n",
    "from keras import backend as K\n",
    "\n",
    "batch_size = 128\n",
    "num_classes = 10\n",
    "epochs = 12\n",
    "\n",
    "# input image dimensions\n",
    "img_rows, img_cols = 28, 28\n",
    "\n",
    "# the data, split between train and test sets\n",
    "(x_train, y_train), (x_test, y_test) = mnist.load_data()\n",
    "\n",
    "if K.image_data_format() == 'channels_first':\n",
    "    x_train = x_train.reshape(x_train.shape[0], 1, img_rows, img_cols)\n",
    "    x_test = x_test.reshape(x_test.shape[0], 1, img_rows, img_cols)\n",
    "    input_shape = (1, img_rows, img_cols)\n",
    "else:\n",
    "    x_train = x_train.reshape(x_train.shape[0], img_rows, img_cols, 1)\n",
    "    x_test = x_test.reshape(x_test.shape[0], img_rows, img_cols, 1)\n",
    "    input_shape = (img_rows, img_cols, 1)\n",
    "\n",
    "x_train = x_train.astype('float32')\n",
    "x_test = x_test.astype('float32')\n",
    "x_train /= 255\n",
    "x_test /= 255\n",
    "print('x_train shape:', x_train.shape)\n",
    "print(x_train.shape[0], 'train samples')\n",
    "print(x_test.shape[0], 'test samples')\n",
    "\n",
    "# convert class vectors to binary class matrices\n",
    "y_train = keras.utils.to_categorical(y_train, num_classes)\n",
    "y_test = keras.utils.to_categorical(y_test, num_classes)\n",
    "\n",
    "model = Sequential()\n",
    "model.add(Conv2D(32, kernel_size=(3, 3),\n",
    "                 activation='relu',\n",
    "                 input_shape=input_shape))\n",
    "model.add(Conv2D(64, (3, 3), activation='relu'))\n",
    "model.add(MaxPooling2D(pool_size=(2, 2)))\n",
    "model.add(Dropout(0.15))\n",
    "model.add(Flatten())\n",
    "model.add(Dense(128, activation='relu'))\n",
    "model.add(Dropout(0.30))\n",
    "model.add(Dense(num_classes, activation='softmax'))\n",
    "\n",
    "model.compile(loss=keras.losses.categorical_crossentropy,\n",
    "              optimizer=keras.optimizers.Adadelta(),\n",
    "              metrics=['accuracy'])\n",
    "history = model.fit(x_train, y_train,\n",
    "          batch_size=batch_size,\n",
    "          epochs=epochs,\n",
    "          verbose=1,\n",
    "          validation_data=(x_test, y_test))\n",
    "score = model.evaluate(x_test, y_test, verbose=0)\n",
    "print('Test loss:', score[0])\n",
    "print('Test accuracy:', score[1])"
   ]
  },
  {
   "cell_type": "code",
   "execution_count": 0,
   "metadata": {
    "colab": {},
    "colab_type": "code",
    "id": "hK6gFKarfKA7"
   },
   "outputs": [],
   "source": [
    "# function to create plot\n",
    "%matplotlib notebook\n",
    "import matplotlib.pyplot as plt\n",
    "import numpy as np\n",
    "import time\n",
    "def plt_dynamic(x, vy, ty, ax, colors=['b']):\n",
    "    ax.plot(x, vy, 'b', label=\"Validation Loss\")\n",
    "    ax.plot(x, ty, 'r', label=\"Train Loss\")\n",
    "    plt.legend()\n",
    "    plt.grid()\n",
    "    fig.canvas.draw()"
   ]
  },
  {
   "cell_type": "code",
   "execution_count": 14,
   "metadata": {
    "colab": {
     "base_uri": "https://localhost:8080/",
     "height": 279
    },
    "colab_type": "code",
    "id": "LnY3iFOiMeu3",
    "outputId": "114c5604-a3cb-456b-b0e2-4cc1cc270eac"
   },
   "outputs": [
    {
     "data": {
      "image/png": "[encoded data removed]",
      "text/plain": [
       "<Figure size 432x288 with 1 Axes>"
      ]
     },
     "metadata": {
      "tags": []
     },
     "output_type": "display_data"
    }
   ],
   "source": [
    "# calling function plt_dynamic\n",
    "%matplotlib notebook\n",
    "%matplotlib inline\n",
    "import matplotlib.pyplot as plt\n",
    "fig,ax = plt.subplots(1,1)\n",
    "ax.set_xlabel('epoch') ; ax.set_ylabel('Categorical Crossentropy Loss')\n",
    "x = list(range(1,epochs+1))\n",
    "vy = history.history['val_loss']\n",
    "ty = history.history['loss']\n",
    "plt_dynamic(x, vy, ty, ax)"
   ]
  },
  {
   "cell_type": "markdown",
   "metadata": {
    "colab_type": "text",
    "id": "vCcLTj77dPV4"
   },
   "source": [
    "<h2>MODEL 2</h2>"
   ]
  },
  {
   "cell_type": "code",
   "execution_count": 15,
   "metadata": {
    "colab": {
     "base_uri": "https://localhost:8080/",
     "height": 622
    },
    "colab_type": "code",
    "id": "0Tn87_2FdVnO",
    "outputId": "e1c80602-fd73-492a-e621-bb13c42b2f50"
   },
   "outputs": [
    {
     "name": "stdout",
     "output_type": "stream",
     "text": [
      "x_train shape: (60000, 28, 28, 1)\n",
      "60000 train samples\n",
      "10000 test samples\n",
      "Train on 60000 samples, validate on 10000 samples\n",
      "Epoch 1/15\n",
      "60000/60000 [==============================] - 168s 3ms/step - loss: 0.3189 - acc: 0.9016 - val_loss: 0.0586 - val_acc: 0.9823\n",
      "Epoch 2/15\n",
      "60000/60000 [==============================] - 167s 3ms/step - loss: 0.1299 - acc: 0.9618 - val_loss: 0.0418 - val_acc: 0.9864\n",
      "Epoch 3/15\n",
      "60000/60000 [==============================] - 168s 3ms/step - loss: 0.1034 - acc: 0.9699 - val_loss: 0.0360 - val_acc: 0.9884\n",
      "Epoch 4/15\n",
      "60000/60000 [==============================] - 168s 3ms/step - loss: 0.0887 - acc: 0.9742 - val_loss: 0.0384 - val_acc: 0.9887\n",
      "Epoch 5/15\n",
      "60000/60000 [==============================] - 169s 3ms/step - loss: 0.0780 - acc: 0.9773 - val_loss: 0.0392 - val_acc: 0.9874\n",
      "Epoch 6/15\n",
      "60000/60000 [==============================] - 170s 3ms/step - loss: 0.0711 - acc: 0.9798 - val_loss: 0.0338 - val_acc: 0.9894\n",
      "Epoch 7/15\n",
      "60000/60000 [==============================] - 170s 3ms/step - loss: 0.0680 - acc: 0.9804 - val_loss: 0.0274 - val_acc: 0.9912\n",
      "Epoch 8/15\n",
      "60000/60000 [==============================] - 170s 3ms/step - loss: 0.0636 - acc: 0.9817 - val_loss: 0.0270 - val_acc: 0.9913\n",
      "Epoch 9/15\n",
      "60000/60000 [==============================] - 170s 3ms/step - loss: 0.0593 - acc: 0.9832 - val_loss: 0.0284 - val_acc: 0.9914\n",
      "Epoch 10/15\n",
      "60000/60000 [==============================] - 170s 3ms/step - loss: 0.0574 - acc: 0.9842 - val_loss: 0.0252 - val_acc: 0.9932\n",
      "Epoch 11/15\n",
      "60000/60000 [==============================] - 170s 3ms/step - loss: 0.0571 - acc: 0.9838 - val_loss: 0.0241 - val_acc: 0.9920\n",
      "Epoch 12/15\n",
      "60000/60000 [==============================] - 171s 3ms/step - loss: 0.0528 - acc: 0.9853 - val_loss: 0.0247 - val_acc: 0.9918\n",
      "Epoch 13/15\n",
      "60000/60000 [==============================] - 170s 3ms/step - loss: 0.0524 - acc: 0.9849 - val_loss: 0.0243 - val_acc: 0.9929\n",
      "Epoch 14/15\n",
      "60000/60000 [==============================] - 172s 3ms/step - loss: 0.0495 - acc: 0.9860 - val_loss: 0.0251 - val_acc: 0.9923\n",
      "Epoch 15/15\n",
      "60000/60000 [==============================] - 171s 3ms/step - loss: 0.0488 - acc: 0.9861 - val_loss: 0.0225 - val_acc: 0.9932\n",
      "Test loss: 0.02248294259605409\n",
      "Test accuracy: 0.9932\n"
     ]
    }
   ],
   "source": [
    "# preparing second cnn model\n",
    "batch_size = 96\n",
    "num_classes = 10\n",
    "epochs = 15\n",
    "\n",
    "# input image dimensions\n",
    "img_rows, img_cols = 28, 28\n",
    "\n",
    "# the data, split between train and test sets\n",
    "(x_train, y_train), (x_test, y_test) = mnist.load_data()\n",
    "\n",
    "if K.image_data_format() == 'channels_first':\n",
    "    x_train = x_train.reshape(x_train.shape[0], 1, img_rows, img_cols)\n",
    "    x_test = x_test.reshape(x_test.shape[0], 1, img_rows, img_cols)\n",
    "    input_shape = (1, img_rows, img_cols)\n",
    "else:\n",
    "    x_train = x_train.reshape(x_train.shape[0], img_rows, img_cols, 1)\n",
    "    x_test = x_test.reshape(x_test.shape[0], img_rows, img_cols, 1)\n",
    "    input_shape = (img_rows, img_cols, 1)\n",
    "\n",
    "x_train = x_train.astype('float32')\n",
    "x_test = x_test.astype('float32')\n",
    "x_train /= 255\n",
    "x_test /= 255\n",
    "print('x_train shape:', x_train.shape)\n",
    "print(x_train.shape[0], 'train samples')\n",
    "print(x_test.shape[0], 'test samples')\n",
    "\n",
    "# convert class vectors to binary class matrices\n",
    "y_train = keras.utils.to_categorical(y_train, num_classes)\n",
    "y_test = keras.utils.to_categorical(y_test, num_classes)\n",
    "\n",
    "model = Sequential()\n",
    "model.add(Conv2D(24, kernel_size=(5, 5),\n",
    "                 activation='relu',\n",
    "                 input_shape=input_shape))\n",
    "model.add(Conv2D(48, (5, 5), activation='relu'))\n",
    "model.add(MaxPooling2D(pool_size=(3, 3)))\n",
    "model.add(Dropout(0.40))\n",
    "model.add(Flatten())\n",
    "model.add(Dense(96, activation='relu'))\n",
    "model.add(Dropout(0.60))\n",
    "model.add(Dense(num_classes, activation='softmax'))\n",
    "\n",
    "model.compile(loss=keras.losses.categorical_crossentropy,\n",
    "              optimizer=keras.optimizers.Adadelta(),\n",
    "              metrics=['accuracy'])\n",
    "\n",
    "history = model.fit(x_train, y_train,\n",
    "          batch_size=batch_size,\n",
    "          epochs=epochs,\n",
    "          verbose=1,\n",
    "          validation_data=(x_test, y_test))\n",
    "score = model.evaluate(x_test, y_test, verbose=0)\n",
    "print('Test loss:', score[0])\n",
    "print('Test accuracy:', score[1])"
   ]
  },
  {
   "cell_type": "code",
   "execution_count": 16,
   "metadata": {
    "colab": {
     "base_uri": "https://localhost:8080/",
     "height": 279
    },
    "colab_type": "code",
    "id": "1xNRixdgocP4",
    "outputId": "397fb566-405b-43bf-bb39-b16e35057baa"
   },
   "outputs": [
    {
     "data": {
      "image/png": "[encoded data removed]",
      "text/plain": [
       "<Figure size 432x288 with 1 Axes>"
      ]
     },
     "metadata": {
      "tags": []
     },
     "output_type": "display_data"
    }
   ],
   "source": [
    "# calling function plt_dynamic \n",
    "%matplotlib notebook\n",
    "%matplotlib inline\n",
    "import matplotlib.pyplot as plt\n",
    "fig,ax = plt.subplots(1,1)\n",
    "ax.set_xlabel('epoch') ; ax.set_ylabel('Categorical Crossentropy Loss')\n",
    "x = list(range(1,epochs+1))\n",
    "vy = history.history['val_loss']\n",
    "ty = history.history['loss']\n",
    "plt_dynamic(x, vy, ty, ax)"
   ]
  },
  {
   "cell_type": "markdown",
   "metadata": {
    "colab_type": "text",
    "id": "L0PecmpZrSps"
   },
   "source": [
    "<h3>MODEL 3</h3>"
   ]
  },
  {
   "cell_type": "code",
   "execution_count": 17,
   "metadata": {
    "colab": {
     "base_uri": "https://localhost:8080/",
     "height": 790
    },
    "colab_type": "code",
    "id": "ef74RlcwrW0S",
    "outputId": "f416f788-6837-4b24-9afe-39729766a615"
   },
   "outputs": [
    {
     "name": "stdout",
     "output_type": "stream",
     "text": [
      "x_train shape: (60000, 28, 28, 1)\n",
      "60000 train samples\n",
      "10000 test samples\n",
      "Train on 60000 samples, validate on 10000 samples\n",
      "Epoch 1/20\n",
      "60000/60000 [==============================] - 303s 5ms/step - loss: 0.5208 - acc: 0.8346 - val_loss: 0.0781 - val_acc: 0.9747\n",
      "Epoch 2/20\n",
      "60000/60000 [==============================] - 301s 5ms/step - loss: 0.2142 - acc: 0.9380 - val_loss: 0.0534 - val_acc: 0.9827\n",
      "Epoch 3/20\n",
      "60000/60000 [==============================] - 301s 5ms/step - loss: 0.1642 - acc: 0.9529 - val_loss: 0.0390 - val_acc: 0.9874\n",
      "Epoch 4/20\n",
      "60000/60000 [==============================] - 300s 5ms/step - loss: 0.1439 - acc: 0.9590 - val_loss: 0.0384 - val_acc: 0.9877\n",
      "Epoch 5/20\n",
      "60000/60000 [==============================] - 299s 5ms/step - loss: 0.1262 - acc: 0.9649 - val_loss: 0.0394 - val_acc: 0.9880\n",
      "Epoch 6/20\n",
      "60000/60000 [==============================] - 301s 5ms/step - loss: 0.1100 - acc: 0.9686 - val_loss: 0.0284 - val_acc: 0.9905\n",
      "Epoch 7/20\n",
      "60000/60000 [==============================] - 300s 5ms/step - loss: 0.1045 - acc: 0.9700 - val_loss: 0.0289 - val_acc: 0.9895\n",
      "Epoch 8/20\n",
      "60000/60000 [==============================] - 300s 5ms/step - loss: 0.0987 - acc: 0.9719 - val_loss: 0.0272 - val_acc: 0.9906\n",
      "Epoch 9/20\n",
      "60000/60000 [==============================] - 301s 5ms/step - loss: 0.0905 - acc: 0.9744 - val_loss: 0.0237 - val_acc: 0.9926\n",
      "Epoch 10/20\n",
      "60000/60000 [==============================] - 300s 5ms/step - loss: 0.0897 - acc: 0.9757 - val_loss: 0.0253 - val_acc: 0.9915\n",
      "Epoch 11/20\n",
      "60000/60000 [==============================] - 300s 5ms/step - loss: 0.0817 - acc: 0.9768 - val_loss: 0.0253 - val_acc: 0.9925\n",
      "Epoch 12/20\n",
      "60000/60000 [==============================] - 300s 5ms/step - loss: 0.0814 - acc: 0.9778 - val_loss: 0.0220 - val_acc: 0.9935\n",
      "Epoch 13/20\n",
      "60000/60000 [==============================] - 300s 5ms/step - loss: 0.0787 - acc: 0.9782 - val_loss: 0.0298 - val_acc: 0.9913\n",
      "Epoch 14/20\n",
      "60000/60000 [==============================] - 300s 5ms/step - loss: 0.0762 - acc: 0.9792 - val_loss: 0.0204 - val_acc: 0.9936\n",
      "Epoch 15/20\n",
      "60000/60000 [==============================] - 300s 5ms/step - loss: 0.0738 - acc: 0.9796 - val_loss: 0.0222 - val_acc: 0.9932\n",
      "Epoch 16/20\n",
      "60000/60000 [==============================] - 300s 5ms/step - loss: 0.0706 - acc: 0.9803 - val_loss: 0.0257 - val_acc: 0.9938\n",
      "Epoch 17/20\n",
      "60000/60000 [==============================] - 301s 5ms/step - loss: 0.0705 - acc: 0.9801 - val_loss: 0.0228 - val_acc: 0.9936\n",
      "Epoch 18/20\n",
      "60000/60000 [==============================] - 301s 5ms/step - loss: 0.0669 - acc: 0.9810 - val_loss: 0.0238 - val_acc: 0.9934\n",
      "Epoch 19/20\n",
      "60000/60000 [==============================] - 301s 5ms/step - loss: 0.0667 - acc: 0.9809 - val_loss: 0.0232 - val_acc: 0.9936\n",
      "Epoch 20/20\n",
      "60000/60000 [==============================] - 301s 5ms/step - loss: 0.0661 - acc: 0.9820 - val_loss: 0.0233 - val_acc: 0.9940\n",
      "Test loss: 0.023349520281346712\n",
      "Test accuracy: 0.994\n"
     ]
    }
   ],
   "source": [
    "# preparing third cnn model\n",
    "batch_size = 128\n",
    "num_classes = 10\n",
    "epochs = 20\n",
    "\n",
    "# input image dimensions\n",
    "img_rows, img_cols = 28, 28\n",
    "\n",
    "# the data, split between train and test sets\n",
    "(x_train, y_train), (x_test, y_test) = mnist.load_data()\n",
    "\n",
    "if K.image_data_format() == 'channels_first':\n",
    "    x_train = x_train.reshape(x_train.shape[0], 1, img_rows, img_cols)\n",
    "    x_test = x_test.reshape(x_test.shape[0], 1, img_rows, img_cols)\n",
    "    input_shape = (1, img_rows, img_cols)\n",
    "else:\n",
    "    x_train = x_train.reshape(x_train.shape[0], img_rows, img_cols, 1)\n",
    "    x_test = x_test.reshape(x_test.shape[0], img_rows, img_cols, 1)\n",
    "    input_shape = (img_rows, img_cols, 1)\n",
    "\n",
    "x_train = x_train.astype('float32')\n",
    "x_test = x_test.astype('float32')\n",
    "x_train /= 255\n",
    "x_test /= 255\n",
    "print('x_train shape:', x_train.shape)\n",
    "print(x_train.shape[0], 'train samples')\n",
    "print(x_test.shape[0], 'test samples')\n",
    "\n",
    "# convert class vectors to binary class matrices\n",
    "y_train = keras.utils.to_categorical(y_train, num_classes)\n",
    "y_test = keras.utils.to_categorical(y_test, num_classes)\n",
    "\n",
    "model = Sequential()\n",
    "model.add(Conv2D(32, kernel_size=(7, 7),\n",
    "                 activation='relu',\n",
    "                 input_shape=input_shape))\n",
    "model.add(Conv2D(64, (7, 7), activation='relu'))\n",
    "model.add(MaxPooling2D(pool_size=(3, 3)))\n",
    "model.add(Dropout(0.50))\n",
    "model.add(Flatten())\n",
    "model.add(Dense(128, activation='relu'))\n",
    "model.add(Dropout(0.80))\n",
    "model.add(Dense(num_classes, activation='softmax'))\n",
    "\n",
    "model.compile(loss=keras.losses.categorical_crossentropy,\n",
    "              optimizer=keras.optimizers.Adadelta(),\n",
    "              metrics=['accuracy'])\n",
    "\n",
    "history = model.fit(x_train, y_train,\n",
    "          batch_size=batch_size,\n",
    "          epochs=epochs,\n",
    "          verbose=1,\n",
    "          validation_data=(x_test, y_test))\n",
    "score = model.evaluate(x_test, y_test, verbose=0)\n",
    "print('Test loss:', score[0])\n",
    "print('Test accuracy:', score[1])"
   ]
  },
  {
   "cell_type": "code",
   "execution_count": 18,
   "metadata": {
    "colab": {
     "base_uri": "https://localhost:8080/",
     "height": 279
    },
    "colab_type": "code",
    "id": "XY9WZSgcAZJE",
    "outputId": "124deaa1-b7a5-42b8-f9c5-47945ed070e0"
   },
   "outputs": [
    {
     "data": {
      "image/png": "[encoded data removed]",
      "text/plain": [
       "<Figure size 432x288 with 1 Axes>"
      ]
     },
     "metadata": {
      "tags": []
     },
     "output_type": "display_data"
    }
   ],
   "source": [
    "# calling function plt_dynamic\n",
    "%matplotlib notebook\n",
    "%matplotlib inline\n",
    "import matplotlib.pyplot as plt\n",
    "fig,ax = plt.subplots(1,1)\n",
    "ax.set_xlabel('epoch') ; ax.set_ylabel('Categorical Crossentropy Loss')\n",
    "x = list(range(1,epochs+1))\n",
    "vy = history.history['val_loss']\n",
    "ty = history.history['loss']\n",
    "plt_dynamic(x, vy, ty, ax)"
   ]
  },
  {
   "cell_type": "markdown",
   "metadata": {
    "colab_type": "text",
    "id": "AldCt4kxApaQ"
   },
   "source": [
    "<h2>Conclusion :- </h2>"
   ]
  },
  {
   "cell_type": "code",
   "execution_count": 20,
   "metadata": {
    "colab": {
     "base_uri": "https://localhost:8080/",
     "height": 134
    },
    "colab_type": "code",
    "id": "k1Ehw2_eA039",
    "outputId": "f095dba4-896c-44dd-b04f-6e9d712f7263"
   },
   "outputs": [
    {
     "name": "stdout",
     "output_type": "stream",
     "text": [
      "+---------+------------------+-------------+---------------+----------------+----------------+---------------+---------------+\n",
      "|  Model  | Number of Epochs | Kernel Size | Dropout Rates | Train log loss | Train Accuracy | Test log loss | Test Accuracy |\n",
      "+---------+------------------+-------------+---------------+----------------+----------------+---------------+---------------+\n",
      "| Model 1 |        12        |    (3,3)    |  (0.15,0.30)  |     0.0115     |     99.62      |     0.0290    |     99.20     |\n",
      "| Model 2 |        15        |    (5,5)    |  (0.40,0.60)  |     0.0488     |     98.61      |     0.0255    |     99.32     |\n",
      "| Model 3 |        20        |    (7,7)    |  (0.50,0.80)  |     0.0661     |     98.20      |     0.0233    |     99.40     |\n",
      "+---------+------------------+-------------+---------------+----------------+----------------+---------------+---------------+\n"
     ]
    }
   ],
   "source": [
    "from prettytable import PrettyTable\n",
    "x = PrettyTable()\n",
    "x.field_names = [\"Model\", \"Number of Epochs\",\"Kernel Size\",\"Dropout Rates\" ,\"Train log loss\",\"Train Accuracy\",\"Test log loss\",\"Test Accuracy\"]\n",
    "x.add_row([\"Model 1\",\"12\",\"(3,3)\",\"(0.15,0.30)\",\"0.0115\",\"99.62\",\"0.0290\",\"99.20\"])\n",
    "x.add_row([\"Model 2\",\"15\",\"(5,5)\",\"(0.40,0.60)\",\"0.0488\",\"98.61\",\"0.0255\",\"99.32\"])\n",
    "x.add_row([\"Model 3\",\"20\",\"(7,7)\",\"(0.50,0.80)\",\"0.0661\",\"98.20\",\"0.0233\",\"99.40\"])\n",
    "print (x)"
   ]
  },
  {
   "cell_type": "markdown",
   "metadata": {
    "colab_type": "text",
    "id": "LDHcrG-tCtoL"
   },
   "source": [
    "<h2>Steps Followed :-</h2>"
   ]
  },
  {
   "cell_type": "markdown",
   "metadata": {
    "colab_type": "text",
    "id": "7FNxTF4uC0k_"
   },
   "source": [
    "- Load the MNIST dataset.\n",
    "- Train and test split of the MNIST dataset.\n",
    "- Converting class vectors to binary class matrices.\n",
    "- Trying out different CNN architectures with different kernels, dropout rates and number of epochs on MNIST dataset.\n",
    "- Draw categorical crossentropy loss vs number of epochs plot.\n",
    "- At the end in the conclusion section compare training and test log loss for each model. "
   ]
  }
 ],
 "metadata": {
  "colab": {
   "collapsed_sections": [],
   "name": "CNN.ipynb",
   "provenance": [],
   "version": "0.3.2"
  },
  "kernelspec": {
   "display_name": "Python 3",
   "language": "python",
   "name": "python3"
  },
  "language_info": {
   "codemirror_mode": {
    "name": "ipython",
    "version": 3
   },
   "file_extension": ".py",
   "mimetype": "text/x-python",
   "name": "python",
   "nbconvert_exporter": "python",
   "pygments_lexer": "ipython3",
   "version": "3.7.6"
  }
 },
 "nbformat": 4,
 "nbformat_minor": 1
}
